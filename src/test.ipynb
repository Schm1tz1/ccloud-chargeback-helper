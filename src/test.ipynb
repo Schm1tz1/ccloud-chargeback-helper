{
 "cells": [
  {
   "cell_type": "code",
   "execution_count": null,
   "metadata": {},
   "outputs": [],
   "source": [
    "with open(\"/Users/abhishek/.profile\", \"r\") as env_file:\n",
    "    for line in env_file:\n",
    "        if line.strip() != \"\":\n",
    "            print(f\"Line Data: '{line.strip()}'\")\n",
    "            key, value = line.strip().split(sep=\"=\")\n",
    "            os.environ[key] = value.replace('\"','')"
   ]
  },
  {
   "cell_type": "code",
   "execution_count": null,
   "metadata": {},
   "outputs": [],
   "source": [
    "from argparse import Namespace\n",
    "from enum import Enum, auto\n",
    "from logging import debug\n",
    "import os\n",
    "from typing import Dict, List\n",
    "import yaml\n",
    "from ccloud.core import create_ccloud_request, execute_ccloud_request, get_http_connection, generate_iso8601_dt_intervals\n",
    "from ccloud.model import CCMEReq_Granularity\n",
    "from data_processing.metrics_processing import metrics_dataframe\n",
    "import helpers\n",
    "from config_parser import try_parse_config_file, locate_storage_path, DirType\n",
    "import datetime\n",
    "import pandas as pd\n",
    "import csv\n",
    "\n",
    "\n",
    "core_config = try_parse_config_file(config_yaml_path=\"/Users/abhishek/Non-Cloud/repo/ccloud-chargeback-helper/config/config.yaml\")"
   ]
  },
  {
   "cell_type": "code",
   "execution_count": null,
   "metadata": {},
   "outputs": [],
   "source": [
    "storage_path = locate_storage_path(dir_type=[DirType.MetricsData, DirType.BillingsData, DirType.OutputData])"
   ]
  },
  {
   "cell_type": "code",
   "execution_count": null,
   "metadata": {},
   "outputs": [],
   "source": [
    "intervals = generate_iso8601_dt_intervals(CCMEReq_Granularity.P1D.name, intervals=3)\n",
    "print(intervals)"
   ]
  },
  {
   "cell_type": "code",
   "execution_count": null,
   "metadata": {},
   "outputs": [],
   "source": [
    "new_req = create_ccloud_request(request=core_config[\"configs\"][\"connection\"][0][\"requests\"][0], intervals=3)\n",
    "print(new_req)"
   ]
  },
  {
   "cell_type": "code",
   "execution_count": null,
   "metadata": {},
   "outputs": [],
   "source": [
    "connection = get_http_connection(ccloud_details=core_config[\"configs\"][\"connection\"][0][\"ccloud_details\"])\n"
   ]
  },
  {
   "cell_type": "code",
   "execution_count": null,
   "metadata": {},
   "outputs": [],
   "source": [
    "resp_code, resp_body = execute_ccloud_request(\n",
    "    ccloud_url=\"https://api.telemetry.confluent.cloud/v2/metrics/cloud/query\", auth=connection, payload=new_req, timeout=200\n",
    ")\n",
    "print(resp_body)"
   ]
  },
  {
   "cell_type": "code",
   "execution_count": null,
   "metadata": {},
   "outputs": [],
   "source": [
    "curr_df = metrics_dataframe(aggregation_metric_name=new_req[\"aggregations\"][0][\"metric\"], metrics_output=resp_body)"
   ]
  },
  {
   "cell_type": "code",
   "execution_count": null,
   "metadata": {},
   "outputs": [],
   "source": [
    "curr_df.print_sample_df()"
   ]
  },
  {
   "cell_type": "code",
   "execution_count": null,
   "metadata": {},
   "outputs": [],
   "source": [
    "# this is for the timestamp based pivoted dataset\n",
    "from csv import QUOTE_NONNUMERIC\n",
    "\n",
    "trial_out_basepath = storage_path[DirType.MetricsData]\n",
    "# dt_range = curr_df.get_dataset(ds_name=\"pivoted_on_timestamp\")[1].index.unique().normalize().unique()\n",
    "dt_range = curr_df.get_dataset(ds_name=\"pivoted_on_timestamp\")[1].index.unique().normalize().unique()\n",
    "dates_arr = dt_range.date\n",
    "print(dt_range)\n",
    "print(dates_arr)\n",
    "\n",
    "for dt_data, d_data in zip(dt_range, dates_arr):\n",
    "    print(d_data)\n",
    "    print(dt_data)\n",
    "    new_item = dt_data + datetime.timedelta(days=1)\n",
    "    print(new_item)\n",
    "    print(type(new_item))\n",
    "    ds = curr_df.get_dataset(ds_name=\"pivoted_on_timestamp\")[1]\n",
    "    subset = ds[(ds.index >= dt_data) & (ds.index < new_item)]\n",
    "    out_path = os.path.join(trial_out_basepath, f\"{d_data}_pivoted_on_timestamp.csv\")\n",
    "    subset.to_csv(out_path, quoting=QUOTE_NONNUMERIC)\n",
    "    "
   ]
  },
  {
   "cell_type": "code",
   "execution_count": null,
   "metadata": {},
   "outputs": [],
   "source": [
    "ds = curr_df.get_dataset(ds_name=\"metricsapi_representation\")[1]\n",
    "ts_range = ds[\"timestamp\"].dt.normalize().unique()\n",
    "print(ts_range)\n",
    "dt_range = ts_range.date\n",
    "print(dt_range)\n",
    "print(type(ts_range))\n",
    "print(type(dt_range))\n"
   ]
  },
  {
   "cell_type": "code",
   "execution_count": null,
   "metadata": {},
   "outputs": [],
   "source": [
    "import csv\n",
    "for ts_date, dt_str in zip(ts_range, dt_range):\n",
    "    lt_date = ts_date + datetime.timedelta(days=1)\n",
    "    print(ts_date, dt_str, lt_date)\n",
    "    subset = ds[(ds[\"timestamp\"] >= ts_date) & (ds[\"timestamp\"] < lt_date)]\n",
    "    print(subset.info())\n",
    "    out_path = os.path.join(trial_out_basepath, f\"{dt_str}_metricsapi_representation.csv\")\n",
    "    subset.to_csv(out_path, index=False, quoting=csv.QUOTE_NONNUMERIC)\n"
   ]
  }
 ],
 "metadata": {
  "kernelspec": {
   "display_name": "Python 3.10.4 ('cc-billing')",
   "language": "python",
   "name": "python3"
  },
  "language_info": {
   "codemirror_mode": {
    "name": "ipython",
    "version": 3
   },
   "file_extension": ".py",
   "mimetype": "text/x-python",
   "name": "python",
   "nbconvert_exporter": "python",
   "pygments_lexer": "ipython3",
   "version": "3.10.4"
  },
  "orig_nbformat": 4,
  "vscode": {
   "interpreter": {
    "hash": "1166b86dc5f9a6998615d25e1cad074b3276b3c2b7a687a4ba29f68ff2365e67"
   }
  }
 },
 "nbformat": 4,
 "nbformat_minor": 2
}
